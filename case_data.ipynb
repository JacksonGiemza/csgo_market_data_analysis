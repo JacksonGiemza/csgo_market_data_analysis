{
 "cells": [
  {
   "cell_type": "code",
   "execution_count": 100,
   "id": "e39f7e22-5d70-4d24-b0fe-f278828c7b5a",
   "metadata": {},
   "outputs": [],
   "source": [
    "import pandas as pd\n",
    "import requests\n",
    "import json"
   ]
  },
  {
   "cell_type": "code",
   "execution_count": 101,
   "id": "2c62cc8c-058f-45ca-a235-cb5b5c0bc40a",
   "metadata": {},
   "outputs": [],
   "source": [
    "hash_names = [\"Operation%20Riptide%20Case\", \"Prisma%202%20Case\", \"Revolver%20Case\", \"Danger%20Zone%20Case\", \"Horizon%20Case\",\n",
    "            \"Prisma%20Case\", \"CS20%20Case\", \"Chroma%203%20Case\", \"Shadow%20Case\", \"Spectrum%202%20Case\", \"Clutch%20Case\",\n",
    "            \"Falchion%20Case\", \"Gamma%202%20Case\", \"Gamma%20Case\", \"Fracture%20Case\", \"Chroma%202%20Case\",\n",
    "            \"Operation%20Wildfire%20Case\", \"Operation%20Broken%20Fang%20Case\", \"Spectrum%20Case\", \"Chroma%20Case\",\n",
    "            \"Operation%20Phoenix%20Weapon%20Case\", \"Operation%20Vanguard%20Weapon%20Case\", \"Shattered%20Web%20Case\",\n",
    "            \"Glove%20Case\", \"Snakebite%20Case\", \"Operation%20Breakout%20Weapon%20Case\", \"CS%3AGO%20Weapon%20Case%203\",\n",
    "            \"Huntsman%20Weapon%20Case\", \"eSports%202014%20Summer%20Case\", \"eSports%202013%20Winter%20Case\",\n",
    "            \"Winter%20Offensive%20Weapon%20Case\", \"CS%3AGO%20Weapon%20Case%202\", \"Operation%20Hydra%20Case\",\n",
    "            \"eSports%202013%20Case\", \"Operation%20Bravo%20Case\", \"CS%3AGO%20Weapon%20Case\"]"
   ]
  },
  {
   "cell_type": "code",
   "execution_count": 109,
   "id": "dfda03f9-0641-4d78-95d8-8c0b7d6c2b33",
   "metadata": {
    "collapsed": true,
    "jupyter": {
     "outputs_hidden": true
    },
    "tags": []
   },
   "outputs": [
    {
     "name": "stdout",
     "output_type": "stream",
     "text": [
      "<Response [200]>\n",
      "<Response [200]>\n",
      "<Response [200]>\n",
      "<Response [200]>\n",
      "<Response [200]>\n",
      "<Response [200]>\n",
      "<Response [200]>\n",
      "<Response [200]>\n",
      "<Response [200]>\n",
      "<Response [200]>\n",
      "<Response [200]>\n",
      "<Response [200]>\n",
      "<Response [200]>\n",
      "<Response [200]>\n",
      "<Response [200]>\n",
      "<Response [200]>\n",
      "<Response [200]>\n",
      "<Response [200]>\n",
      "<Response [200]>\n",
      "<Response [200]>\n",
      "<Response [200]>\n",
      "<Response [200]>\n",
      "<Response [200]>\n",
      "<Response [200]>\n",
      "<Response [200]>\n",
      "<Response [200]>\n",
      "<Response [200]>\n",
      "<Response [200]>\n",
      "<Response [200]>\n",
      "<Response [200]>\n",
      "<Response [200]>\n",
      "<Response [200]>\n",
      "<Response [200]>\n",
      "<Response [200]>\n",
      "<Response [200]>\n",
      "<Response [200]>\n"
     ]
    }
   ],
   "source": [
    "cases = pd.DataFrame()\n",
    "\n",
    "for hash_name in hash_names:\n",
    "    url = f'https://steamcommunity.com/market/pricehistory/?appid=730&market_hash_name={hash_name}'\n",
    "    headers = {\n",
    "        'User-Agent': 'Mozilla/5.0 (Windows NT 10.0; Win64; x64) AppleWebKit/537.36 (KHTML, like Gecko) Chrome/58.0.3029.110 Safari/537.3'}\n",
    "\n",
    "    cookies = {\n",
    "        'timezoneOffset': '-25200,0',\n",
    "        'browserid': '2793981395735445428',\n",
    "        'sessionid': '023b66a13472602b294ba72d',\n",
    "        'steamCountry': 'US%7Cac22e049f228a9159ad2afffb579e986',\n",
    "        'steamLoginSecure': '76561198198225722%7C%7CeyAidHlwIjogIkpXVCIsICJhbGciOiAiRWREU0EiIH0.eyAiaXNzIjogInI6MEQ5Rl8yMzc0NkI0M19CRTcwQiIsICJzdWIiOiAiNzY1NjExOTgxOTgyMjU3MjIiLCAiYXVkIjogWyAid2ViIiBdLCAiZXhwIjogMTcwMjQyMzQyNywgIm5iZiI6IDE2OTM2OTU4MTIsICJpYXQiOiAxNzAyMzM1ODEyLCAianRpIjogIjBERDhfMjM5OTU0ODNfODU5QTQiLCAib2F0IjogMTcwMDAwMzk0MCwgInJ0X2V4cCI6IDE3MTg0NjgzNzYsICJwZXIiOiAwLCAiaXBfc3ViamVjdCI6ICIxMjguMTM4LjY1LjIzNyIsICJpcF9jb25maXJtZXIiOiAiMTI4LjEzOC42NS4yMzciIH0.wZ9S1TpXe1-Ll3XU5CP6xhk0wAOlVWR-ZhPpQV0A8PLhU5gi9Oez1tvzEagLXdJOta5guSKT2jmBGxJ1EDsUAQ',\n",
    "        'app_impressions': '730@2_100100_100101_100106',\n",
    "        'webTradeEligibility': '%7B%22allowed%22%3A1%2C%22allowed_at_time%22%3A0%2C%22steamguard_required_days%22%3A15%2C%22new_device_cooldown_days%22%3A0%2C%22time_checked%22%3A1702187129%7D'\n",
    "    }\n",
    "\n",
    "    response = requests.get(url, headers=headers, cookies=cookies)\n",
    "    print(response)\n",
    "    \n",
    "    data = json.loads(response.text)\n",
    "    df = pd.DataFrame(data)\n",
    "    \n",
    "    cases = pd.concat([cases,df],ignore_index=True)\n",
    "    # df.to_csv(f'{hash_name.replace(\"%20\",\"_\")}.csv',index=False)"
   ]
  },
  {
   "cell_type": "code",
   "execution_count": 107,
   "id": "4fe14a62-18f5-4c15-a4da-b602d104f6f1",
   "metadata": {},
   "outputs": [
    {
     "data": {
      "text/plain": [
       "400"
      ]
     },
     "execution_count": 107,
     "metadata": {},
     "output_type": "execute_result"
    }
   ],
   "source": [
    "r= requests.get(url, headers=headers)"
   ]
  },
  {
   "cell_type": "code",
   "execution_count": 97,
   "id": "a209d0d7-d1ac-41a3-856d-f8d1c1008aa0",
   "metadata": {},
   "outputs": [],
   "source": [
    "import os\n",
    "cases = pd.DataFrame()\n",
    "\n",
    "for filename in os.listdir('case_datasets'):\n",
    "    if not filename.endswith('.csv'):\n",
    "        continue\n",
    "        \n",
    "    df = pd.read_csv(f\"case_datasets/{filename}\")\n",
    "    \n",
    "    df['case'] = filename[:-4]\n",
    "\n",
    "    cases = pd.concat([cases,df],ignore_index=True)\n",
    "    \n",
    "cases[['date', 'price', 'id']] = cases['prices'].str.extract(r\"\\['(.+?)',\\s+(\\d+\\.\\d+),\\s+'(\\d+)'\\]\")\n",
    "cases = cases.drop('prices', axis=1)\n",
    "cases['date'] = cases['date'].str[:-7]\n",
    "cases['date'] = pd.to_datetime(cases['date'], format='%b %d %Y')\n",
    "cases['price'] = cases['price'].astype(float)"
   ]
  },
  {
   "cell_type": "code",
   "execution_count": 99,
   "id": "de6d72c6-b7f4-42e4-9d02-f6af55297517",
   "metadata": {},
   "outputs": [],
   "source": [
    "cases.to_csv('all_cases.csv',index=False)"
   ]
  }
 ],
 "metadata": {
  "kernelspec": {
   "display_name": "Python 3 (ipykernel)",
   "language": "python",
   "name": "python3"
  },
  "language_info": {
   "codemirror_mode": {
    "name": "ipython",
    "version": 3
   },
   "file_extension": ".py",
   "mimetype": "text/x-python",
   "name": "python",
   "nbconvert_exporter": "python",
   "pygments_lexer": "ipython3",
   "version": "3.10.9"
  }
 },
 "nbformat": 4,
 "nbformat_minor": 5
}
