{
 "cells": [
  {
   "cell_type": "code",
   "execution_count": 6,
   "id": "bdf8d9a4-0df3-4e83-a266-b2bd59f5ac05",
   "metadata": {},
   "outputs": [],
   "source": [
    "import requests\n",
    "import pandas as pd\n",
    "from bs4 import BeautifulSoup"
   ]
  },
  {
   "cell_type": "code",
   "execution_count": 90,
   "id": "64214c65-ce41-47f6-a49e-71201fdfa82c",
   "metadata": {},
   "outputs": [
    {
     "name": "stdout",
     "output_type": "stream",
     "text": [
      "Failed: 404\n"
     ]
    }
   ],
   "source": [
    "r = requests.get('https://blog.counter-strike.net/index.php/page/1222222/')\n",
    "\n",
    "if r.status_code == 200:\n",
    "    soup = BeautifulSoup(r.text, 'html.parser')\n",
    "else:\n",
    "    print(f'Failed: {r.status_code}')"
   ]
  },
  {
   "cell_type": "code",
   "execution_count": 93,
   "id": "02c5a1f1-966d-4702-8ca7-2bdd9b2c330c",
   "metadata": {
    "tags": []
   },
   "outputs": [
    {
     "name": "stdout",
     "output_type": "stream",
     "text": [
      "Failed: 404\n"
     ]
    }
   ],
   "source": [
    "i = -1\n",
    "df = pd.DataFrame()\n",
    "while True:\n",
    "    i+=1\n",
    "\n",
    "    r = requests.get(f'https://blog.counter-strike.net/index.php/page/{i}')\n",
    "\n",
    "    if r.status_code == 200:\n",
    "        soup = BeautifulSoup(r.text, 'html.parser')\n",
    "    else:\n",
    "        print(f'Failed: {r.status_code}')\n",
    "        break\n",
    "\n",
    "    posts = soup.find_all('div', class_='inner_post')\n",
    "\n",
    "\n",
    "    post_dict = {}\n",
    "\n",
    "    for post in posts:\n",
    "\n",
    "        title = post.find('a').get_text(strip=True)\n",
    "        post_dict['Title'] = title\n",
    "\n",
    "\n",
    "        date = post.find(class_ = 'post_date').get_text(strip=True)\n",
    "        post_dict['Date'] = date\n",
    "\n",
    "\n",
    "        texts = post.find_all('p')\n",
    "        post_text = ''\n",
    "        for text in texts[1:len(texts)]:\n",
    "            post_text = post_text + text.get_text(strip=True)\n",
    "\n",
    "        post_dict['Text'] = post_text\n",
    "\n",
    "        df = pd.concat([df, pd.DataFrame([post_dict])], ignore_index=True)\n"
   ]
  },
  {
   "cell_type": "code",
   "execution_count": 96,
   "id": "7cad6a23-1f82-4582-b791-73f9aca64d4d",
   "metadata": {},
   "outputs": [
    {
     "data": {
      "text/html": [
       "<div>\n",
       "<style scoped>\n",
       "    .dataframe tbody tr th:only-of-type {\n",
       "        vertical-align: middle;\n",
       "    }\n",
       "\n",
       "    .dataframe tbody tr th {\n",
       "        vertical-align: top;\n",
       "    }\n",
       "\n",
       "    .dataframe thead th {\n",
       "        text-align: right;\n",
       "    }\n",
       "</style>\n",
       "<table border=\"1\" class=\"dataframe\">\n",
       "  <thead>\n",
       "    <tr style=\"text-align: right;\">\n",
       "      <th></th>\n",
       "      <th>Title</th>\n",
       "      <th>Date</th>\n",
       "      <th>Text</th>\n",
       "    </tr>\n",
       "  </thead>\n",
       "  <tbody>\n",
       "    <tr>\n",
       "      <th>0</th>\n",
       "      <td>The Anubis Collection</td>\n",
       "      <td>2023.04.24   -</td>\n",
       "      <td>Since November, players have been peeking mid ...</td>\n",
       "    </tr>\n",
       "    <tr>\n",
       "      <th>1</th>\n",
       "      <td>Case, Capsule, Kit, Oh My!</td>\n",
       "      <td>2023.02.09   -</td>\n",
       "      <td>Today we’re excited to ship the Revolution Cas...</td>\n",
       "    </tr>\n",
       "    <tr>\n",
       "      <th>2</th>\n",
       "      <td>At Your Service</td>\n",
       "      <td>2022.12.13   -</td>\n",
       "      <td>All ranked-up and ready to go? The all-new 202...</td>\n",
       "    </tr>\n",
       "    <tr>\n",
       "      <th>3</th>\n",
       "      <td>Anu Map Who Bis</td>\n",
       "      <td>2022.11.18   -</td>\n",
       "      <td>Today’s update includes an adjustment to the A...</td>\n",
       "    </tr>\n",
       "    <tr>\n",
       "      <th>4</th>\n",
       "      <td>IEM Rio Major Champions</td>\n",
       "      <td>2022.11.15   -</td>\n",
       "      <td>Over the past two weeks Rio de Janeiro has bee...</td>\n",
       "    </tr>\n",
       "    <tr>\n",
       "      <th>...</th>\n",
       "      <td>...</td>\n",
       "      <td>...</td>\n",
       "      <td>...</td>\n",
       "    </tr>\n",
       "    <tr>\n",
       "      <th>416</th>\n",
       "      <td>Experiments</td>\n",
       "      <td>2012.02.24   -</td>\n",
       "      <td>We just updated the CS:GO Beta today and chang...</td>\n",
       "    </tr>\n",
       "    <tr>\n",
       "      <th>417</th>\n",
       "      <td>Survey</td>\n",
       "      <td>2012.02.22   -</td>\n",
       "      <td>Last week we launched the Counter-Strike: Glob...</td>\n",
       "    </tr>\n",
       "    <tr>\n",
       "      <th>418</th>\n",
       "      <td>Listening</td>\n",
       "      <td>2012.02.17   -</td>\n",
       "      <td>Tuesday’s Beta launch was great. We added more...</td>\n",
       "    </tr>\n",
       "    <tr>\n",
       "      <th>419</th>\n",
       "      <td>Welcome to Counter-Strike.net</td>\n",
       "      <td>2012.02.14   -</td>\n",
       "      <td>Today we are kicking off the Counter-Strike: G...</td>\n",
       "    </tr>\n",
       "    <tr>\n",
       "      <th>420</th>\n",
       "      <td>Counter-Strike: Global Offensive Stress Test i...</td>\n",
       "      <td>2011.11.30   -</td>\n",
       "      <td>Today, CSGO starts its first stress test of ou...</td>\n",
       "    </tr>\n",
       "  </tbody>\n",
       "</table>\n",
       "<p>421 rows × 3 columns</p>\n",
       "</div>"
      ],
      "text/plain": [
       "                                                 Title            Date   \n",
       "0                                The Anubis Collection  2023.04.24   -  \\\n",
       "1                           Case, Capsule, Kit, Oh My!  2023.02.09   -   \n",
       "2                                      At Your Service  2022.12.13   -   \n",
       "3                                      Anu Map Who Bis  2022.11.18   -   \n",
       "4                              IEM Rio Major Champions  2022.11.15   -   \n",
       "..                                                 ...             ...   \n",
       "416                                        Experiments  2012.02.24   -   \n",
       "417                                             Survey  2012.02.22   -   \n",
       "418                                          Listening  2012.02.17   -   \n",
       "419                      Welcome to Counter-Strike.net  2012.02.14   -   \n",
       "420  Counter-Strike: Global Offensive Stress Test i...  2011.11.30   -   \n",
       "\n",
       "                                                  Text  \n",
       "0    Since November, players have been peeking mid ...  \n",
       "1    Today we’re excited to ship the Revolution Cas...  \n",
       "2    All ranked-up and ready to go? The all-new 202...  \n",
       "3    Today’s update includes an adjustment to the A...  \n",
       "4    Over the past two weeks Rio de Janeiro has bee...  \n",
       "..                                                 ...  \n",
       "416  We just updated the CS:GO Beta today and chang...  \n",
       "417  Last week we launched the Counter-Strike: Glob...  \n",
       "418  Tuesday’s Beta launch was great. We added more...  \n",
       "419  Today we are kicking off the Counter-Strike: G...  \n",
       "420  Today, CSGO starts its first stress test of ou...  \n",
       "\n",
       "[421 rows x 3 columns]"
      ]
     },
     "execution_count": 96,
     "metadata": {},
     "output_type": "execute_result"
    }
   ],
   "source": [
    "df"
   ]
  },
  {
   "cell_type": "code",
   "execution_count": 95,
   "id": "e4c6c6ed-7f42-4efe-8dc2-5010476374aa",
   "metadata": {},
   "outputs": [],
   "source": [
    "df.to_csv('cs_blog_data.csv',index=False)"
   ]
  }
 ],
 "metadata": {
  "kernelspec": {
   "display_name": "Python 3 (ipykernel)",
   "language": "python",
   "name": "python3"
  },
  "language_info": {
   "codemirror_mode": {
    "name": "ipython",
    "version": 3
   },
   "file_extension": ".py",
   "mimetype": "text/x-python",
   "name": "python",
   "nbconvert_exporter": "python",
   "pygments_lexer": "ipython3",
   "version": "3.10.9"
  }
 },
 "nbformat": 4,
 "nbformat_minor": 5
}
